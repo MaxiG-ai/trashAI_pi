{
 "cells": [
  {
   "cell_type": "code",
   "execution_count": 1,
   "metadata": {},
   "outputs": [
    {
     "name": "stderr",
     "output_type": "stream",
     "text": [
      "2023-02-23 21:38:25.056235: I tensorflow/core/platform/cpu_feature_guard.cc:193] This TensorFlow binary is optimized with oneAPI Deep Neural Network Library (oneDNN) to use the following CPU instructions in performance-critical operations:  AVX2 FMA\n",
      "To enable them in other operations, rebuild TensorFlow with the appropriate compiler flags.\n",
      "2023-02-23 21:38:25.350936: W tensorflow/compiler/xla/stream_executor/platform/default/dso_loader.cc:64] Could not load dynamic library 'libcudart.so.11.0'; dlerror: libcudart.so.11.0: cannot open shared object file: No such file or directory\n",
      "2023-02-23 21:38:25.351001: I tensorflow/compiler/xla/stream_executor/cuda/cudart_stub.cc:29] Ignore above cudart dlerror if you do not have a GPU set up on your machine.\n",
      "2023-02-23 21:38:33.675636: W tensorflow/compiler/xla/stream_executor/platform/default/dso_loader.cc:64] Could not load dynamic library 'libnvinfer.so.7'; dlerror: libnvinfer.so.7: cannot open shared object file: No such file or directory\n",
      "2023-02-23 21:38:33.676452: W tensorflow/compiler/xla/stream_executor/platform/default/dso_loader.cc:64] Could not load dynamic library 'libnvinfer_plugin.so.7'; dlerror: libnvinfer_plugin.so.7: cannot open shared object file: No such file or directory\n",
      "2023-02-23 21:38:33.676492: W tensorflow/compiler/tf2tensorrt/utils/py_utils.cc:38] TF-TRT Warning: Cannot dlopen some TensorRT libraries. If you would like to use Nvidia GPU with TensorRT, please make sure the missing libraries mentioned above are installed properly.\n"
     ]
    }
   ],
   "source": [
    "from tflite_runtime.interpreter import Interpreter\n",
    "from PIL import Image\n",
    "import numpy as np\n",
    "import time\n",
    "import tensorflow as tf\n",
    "import matplotlib.pyplot as plt\n"
   ]
  },
  {
   "cell_type": "code",
   "execution_count": 2,
   "metadata": {},
   "outputs": [
    {
     "name": "stdout",
     "output_type": "stream",
     "text": [
      "Model loaded succesfully!\n",
      "Input shape:  384 512\n",
      "Prediction time:  0.117\n"
     ]
    },
    {
     "name": "stderr",
     "output_type": "stream",
     "text": [
      "INFO: Created TensorFlow Lite XNNPACK delegate for CPU.\n"
     ]
    },
    {
     "name": "stdout",
     "output_type": "stream",
     "text": [
      "Predicted class: cardboard with Accuracy: 0.0 %\n"
     ]
    }
   ],
   "source": [
    "\n",
    "def load_labels(path): # Read the labels from the text file as a Python list.\n",
    "  with open(path, 'r') as f:\n",
    "    return [line.strip() for i, line in enumerate(f.readlines())]\n",
    "\n",
    "def set_input_tensor(interpreter, image):\n",
    "  tensor_index = interpreter.get_input_details()[0]['index']\n",
    "  input_tensor = interpreter.tensor(tensor_index)()[0]\n",
    "  input_tensor[:, :] = image\n",
    "\n",
    "def classify_image(interpreter, image, top_k=1):\n",
    "  set_input_tensor(interpreter, image)\n",
    "\n",
    "  interpreter.invoke()\n",
    "  output_details = interpreter.get_output_details()[0]\n",
    "  output = np.squeeze(interpreter.get_tensor(output_details['index']))\n",
    "\n",
    "  scale, zero_point = output_details['quantization']\n",
    "  output = scale * (output - zero_point)\n",
    "\n",
    "  ordered = np.argpartition(-output, 1)\n",
    "  return [(i, output[i]) for i in ordered[:top_k]][0]\n",
    "\n",
    "model_path = \"model/model_tflite_2023-02-23_21-01-45.tflite\"\n",
    "label_path = \"model/trash_labels.txt\"\n",
    "\n",
    "interpreter = Interpreter(model_path=model_path)\n",
    "print(\"Model loaded succesfully!\")\n",
    "\n",
    "interpreter.allocate_tensors()\n",
    "_, height, width, _ = interpreter.get_input_details()[0]['shape']\n",
    "print(\"Input shape: \", height, width)\n",
    "\n",
    "# Load sample image to be classified\n",
    "image = Image.open(\"img/metal5.jpg\").convert('RGB').resize((width, height))\n",
    "\n",
    "# using tflite to predict image class\n",
    "time_start = time.time()\n",
    "label_id, prob = classify_image(interpreter, image)\n",
    "time_end = time.time()\n",
    "print(\"Prediction time: \", np.round(time_end - time_start, 3))\n",
    "\n",
    "# Load labels\n",
    "labels = load_labels(label_path)\n",
    "cl_label = labels[label_id]\n",
    "print(f\"Predicted class: {cl_label} with Accuracy: {np.round(prob*100, 2)} %\")\n",
    "\n"
   ]
  },
  {
   "cell_type": "code",
   "execution_count": 8,
   "metadata": {},
   "outputs": [
    {
     "name": "stdout",
     "output_type": "stream",
     "text": [
      "Found 39 files belonging to 6 classes.\n"
     ]
    },
    {
     "name": "stderr",
     "output_type": "stream",
     "text": [
      "2023-02-23 21:43:44.632947: W tensorflow/compiler/xla/stream_executor/platform/default/dso_loader.cc:64] Could not load dynamic library 'libcuda.so.1'; dlerror: libcuda.so.1: cannot open shared object file: No such file or directory\n",
      "2023-02-23 21:43:44.633041: W tensorflow/compiler/xla/stream_executor/cuda/cuda_driver.cc:265] failed call to cuInit: UNKNOWN ERROR (303)\n",
      "2023-02-23 21:43:44.633123: I tensorflow/compiler/xla/stream_executor/cuda/cuda_diagnostics.cc:156] kernel driver does not appear to be running on this host (MDXN01032384): /proc/driver/nvidia/version does not exist\n",
      "2023-02-23 21:43:44.634142: I tensorflow/core/platform/cpu_feature_guard.cc:193] This TensorFlow binary is optimized with oneAPI Deep Neural Network Library (oneDNN) to use the following CPU instructions in performance-critical operations:  AVX2 FMA\n",
      "To enable them in other operations, rebuild TensorFlow with the appropriate compiler flags.\n"
     ]
    }
   ],
   "source": [
    "img_height = 384\n",
    "img_width = 512\n",
    "batch_size = 32\n",
    "\n",
    "imgs =  tf.keras.utils.image_dataset_from_directory(\n",
    "                  'img',\n",
    "                  seed=123,\n",
    "                  image_size=(img_height, img_width),\n",
    "                  batch_size=batch_size)"
   ]
  },
  {
   "cell_type": "code",
   "execution_count": 9,
   "metadata": {},
   "outputs": [],
   "source": [
    "class_names = imgs.class_names"
   ]
  },
  {
   "cell_type": "code",
   "execution_count": 10,
   "metadata": {},
   "outputs": [
    {
     "ename": "AttributeError",
     "evalue": "'Interpreter' object has no attribute 'predict_on_batch'",
     "output_type": "error",
     "traceback": [
      "\u001b[0;31m---------------------------------------------------------------------------\u001b[0m",
      "\u001b[0;31mAttributeError\u001b[0m                            Traceback (most recent call last)",
      "Cell \u001b[0;32mIn[10], line 3\u001b[0m\n\u001b[1;32m      1\u001b[0m \u001b[39m# Retrieve a batch of images from the test set\u001b[39;00m\n\u001b[1;32m      2\u001b[0m image_batch, label_batch \u001b[39m=\u001b[39m imgs\u001b[39m.\u001b[39mas_numpy_iterator()\u001b[39m.\u001b[39mnext()\n\u001b[0;32m----> 3\u001b[0m predictions \u001b[39m=\u001b[39m interpreter\u001b[39m.\u001b[39;49mpredict_on_batch(image_batch)\u001b[39m.\u001b[39mflatten()\n\u001b[1;32m      5\u001b[0m \u001b[39m# Apply a sigmoid since our model returns logits\u001b[39;00m\n\u001b[1;32m      6\u001b[0m predictions \u001b[39m=\u001b[39m tf\u001b[39m.\u001b[39mnn\u001b[39m.\u001b[39msigmoid(predictions)\n",
      "\u001b[0;31mAttributeError\u001b[0m: 'Interpreter' object has no attribute 'predict_on_batch'"
     ]
    }
   ],
   "source": [
    "# Retrieve a batch of images from the test set\n",
    "image_batch, label_batch = imgs.as_numpy_iterator().next()\n",
    "predictions = interpreter.predict_on_batch(image_batch).flatten()\n",
    "\n",
    "# Apply a sigmoid since our model returns logits\n",
    "predictions = tf.nn.sigmoid(predictions)\n",
    "predictions = tf.where(predictions < 0.5, 0, 1)\n",
    "\n",
    "print('Predictions:\\n', predictions.numpy())\n",
    "print('Labels:\\n', label_batch)\n",
    "\n",
    "plt.figure(figsize=(10, 10))\n",
    "for i in range(16):\n",
    "  ax = plt.subplot(4, 4, i + 1)\n",
    "  plt.imshow(image_batch[i].astype(\"uint8\"))\n",
    "  plt.title(class_names[predictions[i]])\n",
    "  plt.axis(\"off\")"
   ]
  }
 ],
 "metadata": {
  "kernelspec": {
   "display_name": "Python 3",
   "language": "python",
   "name": "python3"
  },
  "language_info": {
   "codemirror_mode": {
    "name": "ipython",
    "version": 3
   },
   "file_extension": ".py",
   "mimetype": "text/x-python",
   "name": "python",
   "nbconvert_exporter": "python",
   "pygments_lexer": "ipython3",
   "version": "3.8.10"
  },
  "orig_nbformat": 4,
  "vscode": {
   "interpreter": {
    "hash": "916dbcbb3f70747c44a77c7bcd40155683ae19c65e1c03b4aa3499c5328201f1"
   }
  }
 },
 "nbformat": 4,
 "nbformat_minor": 2
}
